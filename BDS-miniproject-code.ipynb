{
 "cells": [
  {
   "cell_type": "markdown",
   "id": "5b8f8935",
   "metadata": {},
   "source": [
    "# Exercises for BDS Miniproject 1 - Data Exploration\n",
    "Made by group CS-22-DV-4-01.\n",
    "Fill in the missing parts in order to solve the exercises."
   ]
  },
  {
   "cell_type": "code",
   "execution_count": 30,
   "id": "c9747827",
   "metadata": {},
   "outputs": [
    {
     "name": "stdout",
     "output_type": "stream",
     "text": [
      "+----+---------+------+------+----+\n",
      "|Year|     Name|Gender|Births|Rank|\n",
      "+----+---------+------+------+----+\n",
      "|2020|     Liam|     M| 19659|   1|\n",
      "|2020|     Noah|     M| 18252|   2|\n",
      "|2020|   Oliver|     M| 14147|   3|\n",
      "|2020|   Elijah|     M| 13034|   4|\n",
      "|2020|  William|     M| 12541|   5|\n",
      "|2020|    James|     M| 12250|   6|\n",
      "|2020| Benjamin|     M| 12136|   7|\n",
      "|2020|    Lucas|     M| 11281|   8|\n",
      "|2020|    Henry|     M| 10705|   9|\n",
      "|2020|Alexander|     M| 10151|  10|\n",
      "|2020|    Mason|     M| 10029|  11|\n",
      "|2020|  Michael|     M|  9717|  12|\n",
      "|2020|    Ethan|     M|  9464|  13|\n",
      "|2020|   Daniel|     M|  9419|  14|\n",
      "|2020|    Jacob|     M|  9196|  15|\n",
      "|2020|    Logan|     M|  9086|  16|\n",
      "|2020|  Jackson|     M|  9051|  17|\n",
      "|2020|     Levi|     M|  9005|  18|\n",
      "|2020|Sebastian|     M|  8927|  19|\n",
      "|2020|    Mateo|     M|  8900|  20|\n",
      "+----+---------+------+------+----+\n",
      "only showing top 20 rows\n",
      "\n"
     ]
    }
   ],
   "source": [
    "# First we import the libraries and the data set\n",
    "from pyspark.sql import SparkSession\n",
    "import pyspark.sql.functions as F\n",
    "import seaborn as sns\n",
    "import matplotlib.pyplot as plt\n",
    "import pandas as pd\n",
    "import numpy as np\n",
    "\n",
    "spark = SparkSession.builder.getOrCreate()\n",
    "\n",
    "path = \"babynames1880-2020.csv\"\n",
    "\n",
    "df = spark.read.option(\"header\", True).option(\"inferSchema\", True).csv(path)\n",
    "df.show()"
   ]
  },
  {
   "cell_type": "markdown",
   "id": "40242c2b",
   "metadata": {},
   "source": [
    "Produce a summary of the Year and Births columns in the data frame."
   ]
  },
  {
   "cell_type": "code",
   "execution_count": null,
   "id": "05b2db88",
   "metadata": {},
   "outputs": [],
   "source": [
    "# missing code here"
   ]
  },
  {
   "cell_type": "markdown",
   "id": "13f1a2e5",
   "metadata": {},
   "source": [
    "Now produce a scatter plot matrix grouped by the names Liam and Isabella."
   ]
  },
  {
   "cell_type": "code",
   "execution_count": 31,
   "id": "aadc4846",
   "metadata": {
    "scrolled": true
   },
   "outputs": [],
   "source": [
    "male = df.select(\"Births\", \"Name\", \"Year\", \"Gender\").where(df.Name==\"Liam\")\n",
    "female = df.select(\"Births\", \"Name\", \"Year\", \"Gender\").where(df.Name==\"Isabella\")\n",
    "\n",
    "gender_df = male.union(female).toPandas()\n",
    "\n",
    "# missing code here"
   ]
  },
  {
   "cell_type": "markdown",
   "id": "0d7d235a",
   "metadata": {},
   "source": [
    "Produce a bar plot of sum of births in 1920 and sum of births in 2020."
   ]
  },
  {
   "cell_type": "code",
   "execution_count": 32,
   "id": "85ae71df",
   "metadata": {},
   "outputs": [],
   "source": [
    "df1 = df.select(['Year','Births']).filter(df.Year == 2020)\n",
    "df2 = df.select(['Year','Births']).filter(df.Year == 1920)\n",
    "\n",
    "df1 = df1.groupby('Year').agg(F.sum('Births').alias('Total_births'))\n",
    "df2 = df2.groupby('Year').agg(F.sum('Births').alias('Total_births'))\n",
    "\n",
    "dataf = df1.union(df2).toPandas()\n",
    "dataf = dataf.sort_values('Year')\n",
    "\n",
    "# missing code here"
   ]
  },
  {
   "cell_type": "markdown",
   "id": "3cea1322",
   "metadata": {},
   "source": [
    "Produce a pie chart of gender."
   ]
  },
  {
   "cell_type": "code",
   "execution_count": 37,
   "id": "5c47ef38",
   "metadata": {},
   "outputs": [],
   "source": [
    "# Data to plot\n",
    "gender_births = df.select(\"Gender\", \"Births\").groupBy(\"Gender\").sum()\n",
    "female_value = gender_births.select(\"sum(Births)\").where(gender_births.Gender == \"F\").collect()[0][0]\n",
    "male_value = gender_births.select(\"sum(Births)\").where(gender_births.Gender == \"M\").collect()[0][0]\n",
    "\n",
    "list = [female_value, male_value]\n",
    "\n",
    "labels = \"Male\",\"Female\"\n",
    "colors = ['blue', 'orange']\n",
    "explode = (0, 0.1) # explode 1st slice\n",
    "\n",
    "# missing code here"
   ]
  },
  {
   "cell_type": "markdown",
   "id": "92e6843a",
   "metadata": {},
   "source": [
    "Produce a box plot and violin plot of the distribution of births for the names Liam and Elijah."
   ]
  },
  {
   "cell_type": "code",
   "execution_count": 33,
   "id": "a77cab3e",
   "metadata": {},
   "outputs": [],
   "source": [
    "x1 = df.select(\"Births\", \"Name\").where(df.Name==\"Liam\")\n",
    "x2 = df.select(\"Births\", \"Name\").where(df.Name==\"Elijah\")\n",
    "\n",
    "births_df = x1.union(x2).toPandas()\n",
    "\n",
    "# missing code here"
   ]
  },
  {
   "cell_type": "markdown",
   "id": "145fc3ed",
   "metadata": {},
   "source": [
    "Produce a histogram of Rank of the name Howard."
   ]
  },
  {
   "cell_type": "code",
   "execution_count": 35,
   "id": "309862be",
   "metadata": {},
   "outputs": [],
   "source": [
    "data = df.select(\"Rank\", \"Name\").where(df.Name==\"Howard\")\n",
    "df_noah = data.toPandas()\n",
    "bins = np.arange(0, 1000, 100)\n",
    "\n",
    "# missing code here"
   ]
  },
  {
   "cell_type": "markdown",
   "id": "2ed41820",
   "metadata": {},
   "source": [
    "Produce a stacked bar plot of births grouped by gender for the years 1920 and 2020."
   ]
  },
  {
   "cell_type": "code",
   "execution_count": 36,
   "id": "45bfee80",
   "metadata": {},
   "outputs": [
    {
     "name": "stderr",
     "output_type": "stream",
     "text": [
      "No handles with labels found to put in legend.\n"
     ]
    },
    {
     "data": {
      "image/png": "[encoded data removed]",
      "text/plain": [
       "<Figure size 720x576 with 1 Axes>"
      ]
     },
     "metadata": {},
     "output_type": "display_data"
    }
   ],
   "source": [
    "df1 = df.select(['Year','Births', 'Gender']).filter(df.Year == 2020) \n",
    "df2 = df.select(['Year','Births', 'Gender']).filter(df.Year == 1920)\n",
    "df1 = df1.groupby('Year', 'Gender').agg(F.sum('Births').alias('Total_births'))\n",
    "df2 = df2.groupby('Year', 'Gender').agg(F.sum('Births').alias('Total_births'))\n",
    "\n",
    "dataf = df1.union(df2).toPandas()\n",
    "dataf = dataf.sort_values('Year')\n",
    "\n",
    "male_df = dataf[dataf.Gender == 'M']\n",
    "female_df = dataf[dataf.Gender == 'F']\n",
    "\n",
    "labels = male_df['Year']\n",
    "male = male_df['Total_births']\n",
    "female = female_df['Total_births']\n",
    "ind = [x for x, _ in enumerate(labels)]\n",
    "plt.figure(figsize=(10,8))\n",
    "\n",
    "# missing code here\n",
    "plt.xticks(ind, labels)\n",
    "plt.ylabel(\"Total births\")\n",
    "plt.legend(loc=\"upper left\")\n",
    "plt.show()"
   ]
  }
 ],
 "metadata": {
  "kernelspec": {
   "display_name": "Python 3",
   "language": "python",
   "name": "python3"
  },
  "language_info": {
   "codemirror_mode": {
    "name": "ipython",
    "version": 3
   },
   "file_extension": ".py",
   "mimetype": "text/x-python",
   "name": "python",
   "nbconvert_exporter": "python",
   "pygments_lexer": "ipython3",
   "version": "3.8.8"
  }
 },
 "nbformat": 4,
 "nbformat_minor": 5
}
