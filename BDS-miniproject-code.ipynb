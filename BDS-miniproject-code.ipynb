{
 "cells": [
  {
   "cell_type": "code",
   "execution_count": 3,
   "id": "3c8dacf8",
   "metadata": {
    "scrolled": true
   },
   "outputs": [
    {
     "name": "stdout",
     "output_type": "stream",
     "text": [
      "+----+---------+------+------+----+\n",
      "|Year|     Name|Gender|Births|Rank|\n",
      "+----+---------+------+------+----+\n",
      "|2020|     Liam|     M| 19659|   1|\n",
      "|2020|     Noah|     M| 18252|   2|\n",
      "|2020|   Oliver|     M| 14147|   3|\n",
      "|2020|   Elijah|     M| 13034|   4|\n",
      "|2020|  William|     M| 12541|   5|\n",
      "|2020|    James|     M| 12250|   6|\n",
      "|2020| Benjamin|     M| 12136|   7|\n",
      "|2020|    Lucas|     M| 11281|   8|\n",
      "|2020|    Henry|     M| 10705|   9|\n",
      "|2020|Alexander|     M| 10151|  10|\n",
      "|2020|    Mason|     M| 10029|  11|\n",
      "|2020|  Michael|     M|  9717|  12|\n",
      "|2020|    Ethan|     M|  9464|  13|\n",
      "|2020|   Daniel|     M|  9419|  14|\n",
      "|2020|    Jacob|     M|  9196|  15|\n",
      "|2020|    Logan|     M|  9086|  16|\n",
      "|2020|  Jackson|     M|  9051|  17|\n",
      "|2020|     Levi|     M|  9005|  18|\n",
      "|2020|Sebastian|     M|  8927|  19|\n",
      "|2020|    Mateo|     M|  8900|  20|\n",
      "+----+---------+------+------+----+\n",
      "only showing top 20 rows\n",
      "\n"
     ]
    }
   ],
   "source": [
    "from pyspark.sql import SparkSession\n",
    "\n",
    "spark = SparkSession.builder.getOrCreate()\n",
    "\n",
    "path = \"babynames1880-2020.csv\"\n",
    "\n",
    "df = spark.read.option(\"header\", True).csv(path)\n",
    "df.show()"
   ]
  },
  {
   "cell_type": "code",
   "execution_count": 4,
   "id": "99928dc7",
   "metadata": {},
   "outputs": [
    {
     "ename": "NameError",
     "evalue": "name 'Rikke' is not defined",
     "output_type": "error",
     "traceback": [
      "\u001b[1;31m---------------------------------------------------------------------------\u001b[0m",
      "\u001b[1;31mNameError\u001b[0m                                 Traceback (most recent call last)",
      "\u001b[1;32m<ipython-input-4-08424227e10d>\u001b[0m in \u001b[0;36m<module>\u001b[1;34m\u001b[0m\n\u001b[1;32m----> 1\u001b[1;33m \u001b[0mRikke\u001b[0m\u001b[1;33m\u001b[0m\u001b[1;33m\u001b[0m\u001b[0m\n\u001b[0m",
      "\u001b[1;31mNameError\u001b[0m: name 'Rikke' is not defined"
     ]
    }
   ],
   "source": [
    "# Rikke"
   ]
  },
  {
   "cell_type": "code",
   "execution_count": 5,
   "id": "e8dd364d",
   "metadata": {},
   "outputs": [],
   "source": [
    "# Richard"
   ]
  },
  {
   "cell_type": "code",
   "execution_count": 6,
   "id": "3ce05ce5",
   "metadata": {},
   "outputs": [],
   "source": [
    "# Kristoffer"
   ]
  },
  {
   "cell_type": "code",
   "execution_count": 7,
   "id": "38802a98",
   "metadata": {},
   "outputs": [],
   "source": [
    "# Miriam"
   ]
  },
  {
   "cell_type": "code",
   "execution_count": 8,
   "id": "11264784",
   "metadata": {},
   "outputs": [],
   "source": [
    "# Kasper"
   ]
  },
  {
   "cell_type": "code",
   "execution_count": null,
   "id": "c7708d1e",
   "metadata": {},
   "outputs": [],
   "source": []
  }
 ],
 "metadata": {
  "kernelspec": {
   "display_name": "Python 3",
   "language": "python",
   "name": "python3"
  },
  "language_info": {
   "codemirror_mode": {
    "name": "ipython",
    "version": 3
   },
   "file_extension": ".py",
   "mimetype": "text/x-python",
   "name": "python",
   "nbconvert_exporter": "python",
   "pygments_lexer": "ipython3",
   "version": "3.8.8"
  }
 },
 "nbformat": 4,
 "nbformat_minor": 5
}
