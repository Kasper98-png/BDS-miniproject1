{
 "cells": [
  {
   "cell_type": "code",
   "execution_count": 2,
   "id": "3c8dacf8",
   "metadata": {},
   "outputs": [
    {
     "name": "stdout",
     "output_type": "stream",
     "text": [
      "+----+---------+------+------+----+\n",
      "| _c0|      _c1|   _c2|   _c3| _c4|\n",
      "+----+---------+------+------+----+\n",
      "|Year|     Name|Gender|Births|Rank|\n",
      "|2020|     Liam|     M| 19659|   1|\n",
      "|2020|     Noah|     M| 18252|   2|\n",
      "|2020|   Oliver|     M| 14147|   3|\n",
      "|2020|   Elijah|     M| 13034|   4|\n",
      "|2020|  William|     M| 12541|   5|\n",
      "|2020|    James|     M| 12250|   6|\n",
      "|2020| Benjamin|     M| 12136|   7|\n",
      "|2020|    Lucas|     M| 11281|   8|\n",
      "|2020|    Henry|     M| 10705|   9|\n",
      "|2020|Alexander|     M| 10151|  10|\n",
      "|2020|    Mason|     M| 10029|  11|\n",
      "|2020|  Michael|     M|  9717|  12|\n",
      "|2020|    Ethan|     M|  9464|  13|\n",
      "|2020|   Daniel|     M|  9419|  14|\n",
      "|2020|    Jacob|     M|  9196|  15|\n",
      "|2020|    Logan|     M|  9086|  16|\n",
      "|2020|  Jackson|     M|  9051|  17|\n",
      "|2020|     Levi|     M|  9005|  18|\n",
      "|2020|Sebastian|     M|  8927|  19|\n",
      "+----+---------+------+------+----+\n",
      "only showing top 20 rows\n",
      "\n"
     ]
    }
   ],
   "source": [
    "from pyspark.sql import SparkSession\n",
    "\n",
    "spark = SparkSession.builder.getOrCreate()\n",
    "\n",
    "path = \"babynames1880-2020.csv\"\n",
    "\n",
    "df = spark.read.csv(path)\n",
    "df.show()"
   ]
  },
  {
   "cell_type": "code",
   "execution_count": null,
   "id": "91dcf49f",
   "metadata": {},
   "outputs": [],
   "source": []
  }
 ],
 "metadata": {
  "kernelspec": {
   "display_name": "Python 3",
   "language": "python",
   "name": "python3"
  },
  "language_info": {
   "codemirror_mode": {
    "name": "ipython",
    "version": 3
   },
   "file_extension": ".py",
   "mimetype": "text/x-python",
   "name": "python",
   "nbconvert_exporter": "python",
   "pygments_lexer": "ipython3",
   "version": "3.8.8"
  }
 },
 "nbformat": 4,
 "nbformat_minor": 5
}
